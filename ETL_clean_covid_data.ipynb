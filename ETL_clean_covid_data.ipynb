{
 "metadata": {
  "language_info": {
   "codemirror_mode": {
    "name": "ipython",
    "version": 3
   },
   "file_extension": ".py",
   "mimetype": "text/x-python",
   "name": "python",
   "nbconvert_exporter": "python",
   "pygments_lexer": "ipython3",
   "version": 3
  },
  "orig_nbformat": 2
 },
 "nbformat": 4,
 "nbformat_minor": 2,
 "cells": [
  {
   "cell_type": "code",
   "execution_count": null,
   "metadata": {},
   "outputs": [],
   "source": [
    "import json\n",
    "import pandas as pd\n",
    "import numpy as np\n",
    "\n",
    "import re\n",
    "\n",
    "from sqlalchemy import create_engine\n",
    "import psycopg2\n",
    "\n",
    "# from config import db_password\n",
    "\n",
    "import time"
   ]
  },
  {
   "cell_type": "code",
   "execution_count": null,
   "metadata": {},
   "outputs": [],
   "source": [
    "#  Add the clean covid function that takes in the argument, \"covid\".\n",
    "def clean_covid_data(covid):\n",
    "    covid = dict(covid) #create a non-destructive copy\n",
    "\n",
    "# merge column names\n",
    "    def change_column_name(old_name, new_name):\n",
    "        if old_covid in covid:\n",
    "            covid[new_name] = covid.pop(old_name)\n",
    "    change_column_name('Fips', 'FipCode')\n",
    "    change_column_name('metrics.testPositivityRatio', 'PositivityRatio')\n",
    "    change_column_name('metrics.caseDensity', 'Density')\n",
    "    change_column_name('metrics.infectionRatio', 'InfectionRatio')\n",
    "    change_column_name('metrics.infectionRatioCI90', 'InfectionRateCI90')\n",
    "    change_column_name('metrics.icuHeadroomRatio', 'IcuHeadRoomRatio')\n",
    "    change_column_name('metrics.icuCapacityRatio', 'IcuCapacityRatio')\n",
    "    change_column_name('riskLevels.overall', 'RiskLevelOverall')\n",
    "    change_column_name('riskLevels.testPositivityRatio', 'RiskLevelPositivityRatio')\n",
    "    change_column_name('riskLevels.caseDensity', 'RiskLevelCaseDensity')\n",
    "    change_column_name('riskLevels.contactTracerCapacityRatio', 'RiskLevelContactTracerCapacityRatio')\n",
    "    change_column_name('riskLevels.infectionRate', 'RiskLevelInfectionRate')\n",
    "    change_column_name('riskLevels.icuHeadroomRatio', 'RiskLevelICUHeadRoomRatio')\n",
    "    change_column_name('riskLevels.icuCapacityRatio', 'RiskLevelsICUCapacityRatio')\n",
    "    change_column_name('Actuals.cases', 'ActualCases')\n",
    "    change_column_name('Actuals.deaths', 'ActualDeaths')\n",
    "    change_column_name('actuals.hospitalBeds.capacity', 'ActualHospitalBedCapacity')\n",
    "    change_column_name('actuals.hospitalBeds.currentUsageTotal', 'ActualHospitalBedCurrentUsageTotal')\n",
    "    change_column_name('actuals.hospitalBeds.currentUsageCovid', 'ActualHospitalBedCurrentUsageCovid')\n",
    "    change_column_name('actuals.hospitalBeds.typicalUsageRate', 'ActualHospitalBedTypicalUsageRate')\n",
    "    change_column_name('actuals.icuBeds.capacity', 'ActualIcuBedsCapacity')\n",
    "    change_column_name('actuals.icuBeds.currentUsageTotal', 'ActualIcuBedCurrentUsageTotal')\n",
    "    change_column_name('actuals.icuBeds.currentUsageCovid', 'ActualIcuBedCurrentUsageCovid')\n",
    "    change_column_name('actuals.icuBeds.typicalUsageRate', 'ActualIcuBedTypicalUsageRate')\n",
    "    change_column_name('actuals.newCases', 'ActualNewCases')\n",
    "    change_column_name('actuals.vaccinationsInitiated', 'ActualVaccinationInitiated')\n",
    "    change_column_name('actuals.vaccinationsCompleted', 'ActualVaccinationCompleted')\n",
    "    change_column_name('metrics.vaccinationsInitiatedRatio', 'VaccinationInitaitedRatio')\n",
    "    change_column_name('metrics.vaccinationsCompletedRatio', 'VaccinationCompletedRatio')\n",
    "    change_column_name('actuals.newDeaths', 'ActualNewDeaths')\n",
    "    change_column_name('actuals.vaccinesAdministered', 'ActualVaccinesAdministered')\n",
    "\n",
    "\n",
    "    return covid"
   ]
  },
  {
   "cell_type": "code",
   "execution_count": null,
   "metadata": {},
   "outputs": [],
   "source": []
  },
  {
   "cell_type": "code",
   "execution_count": null,
   "metadata": {},
   "outputs": [],
   "source": [
    "# 1 Add the function that takes in one argument;\n",
    "# covid data from apidocs.covidactnow.org\n",
    "\n",
    "def extract_transform_load(covid, epa):\n",
    "    # Read in the kaggle metadata and MovieLens ratings CSV files as Pandas DataFrames.\n",
    "    # kaggle_metadata = pd.read_csv(kaggle_file, low_memory=False)\n",
    "    # ratings = pd.read_csv(ratings_file, low_memory=False)\n",
    "\n",
    "    # Open and read the Wikipedia data JSON file.\n",
    "    with open(covid_file, mode='r') as file:\n",
    "        covid_raw = json.load(file)\n",
    "\n",
    "\n",
    "    # Write a list comprehension to iterate through the cleaned wiki movies list\n",
    "    # and call the clean_movie function on each movie.\n",
    "    clean_covid = [clean_covid(covid) for covid in wiki_movies]\n"
   ]
  },
  {
   "cell_type": "code",
   "execution_count": null,
   "metadata": {},
   "outputs": [],
   "source": [
    "# Path to your file directory and variables for the three files.\n",
    "file_dir = \"/Users/joepedroza/Desktop/Data Visualization Class/Analysis Projects/UT-VIRT-DATA-GROUP-6-PROJECT/Resources\"\n",
    "# COVID data by state\n",
    "covid_by_state_file = f'{file_dir}/covid_by_state.json'\n",
    "# COVID data by state series\n",
    "covid_by_state_series_file = f'{file_dir}/covid_by_state_series.json'\n",
    "# COVID data by state for Texas\n",
    "covid_by_texas_file= f'{file_dir}/TX.csv'\n",
    "# COVID data by state by date series for Texas\n",
    "covid_by_texas_file= f'{file_dir}/TX.timeseries.csv'"
   ]
  },
  {
   "cell_type": "code",
   "execution_count": null,
   "metadata": {},
   "outputs": [],
   "source": [
    "# Set the variables equal to the extract_transform_load function.\n",
    "covid_texas_file = extract_transform_load(covid_by_texas_file)"
   ]
  }
 ]
}